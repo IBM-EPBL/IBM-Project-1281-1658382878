{
  "cells": [
    {
      "cell_type": "code",
      "execution_count": 7,
      "metadata": {
        "id": "QxbO5prI7j5N",
        "outputId": "71d81bb3-6a42-455a-b3ed-bda7f82b0999",
        "colab": {
          "base_uri": "https://localhost:8080/"
        }
      },
      "outputs": [
        {
          "output_type": "stream",
          "name": "stdout",
          "text": [
            "Archive:  /content/drive/MyDrive/Car damage-20221113T134214Z-001.zip\n",
            "replace Car damage/level/validation/01-minor/0011.jpeg? [y]es, [n]o, [A]ll, [N]one, [r]ename: "
          ]
        }
      ],
      "source": [
        "!unzip '/content/drive/MyDrive/Car damage-20221113T134214Z-001.zip'"
      ]
    },
    {
      "cell_type": "code",
      "execution_count": 8,
      "metadata": {
        "id": "9phm1Y6y9b1y"
      },
      "outputs": [],
      "source": [
        "#import image datagenerator library \n",
        "from tensorflow.keras.preprocessing.image import ImageDataGenerator"
      ]
    },
    {
      "cell_type": "code",
      "execution_count": null,
      "metadata": {
        "id": "AdEkFWjcRqXQ"
      },
      "outputs": [],
      "source": [
        "from keras.preprocessing.image import ImageDataGenerator"
      ]
    },
    {
      "cell_type": "code",
      "execution_count": null,
      "metadata": {
        "id": "ZEv3YLeH-YNg"
      },
      "outputs": [],
      "source": [
        "#setting parameter for image data augmentation to the training data.\n",
        "train_datagen = ImageDataGenerator(rescale=1./255,\n",
        "                                                            shear_range=0.1,\n",
        "                                                            zoom_range=0.1,\n",
        "                                                             horizontal_flip=True)"
      ]
    },
    {
      "cell_type": "code",
      "execution_count": null,
      "metadata": {
        "id": "nsEdQVtL_56H"
      },
      "outputs": [],
      "source": [
        "#image data augmentation to the testing data.\n",
        "val_datagen = ImageDataGenerator(rescale = 1./255)"
      ]
    },
    {
      "cell_type": "code",
      "execution_count": null,
      "metadata": {
        "id": "4JUfRmsgVyZ3"
      },
      "outputs": [],
      "source": [
        "training_set = train_datagen.flow_from_directory('/content/Car damage/body/training',\n",
        "                                               target_size = (224, 224),\n",
        "                                               batch_size = 10,\n",
        "                                               class_mode = 'categorical')\n",
        "test_set = val_datagen.flow_from_directory('/content/Car damage/body/validation',\n",
        "                                                target_size = (224, 224),\n",
        "                                               batch_size = 10,\n",
        "                                               class_mode = 'categorical')  \n"
      ]
    },
    {
      "cell_type": "code",
      "execution_count": null,
      "metadata": {
        "id": "wtphG82bTvrq"
      },
      "outputs": [],
      "source": [
        "training_set = train_datagen.flow_from_directory('/content/Car damage/level/training',\n",
        "                                               target_size = (224, 224),\n",
        "                                               batch_size = 10,\n",
        "                                               class_mode = 'categorical')\n",
        "test_set = val_datagen.flow_from_directory('/content/Car damage/level/validation',\n",
        "                                                target_size = (224, 224),\n",
        "                                               batch_size = 10,\n",
        "                                               class_mode = 'categorical')  "
      ]
    },
    {
      "cell_type": "code",
      "execution_count": null,
      "metadata": {
        "id": "7oM_0AXPWa38"
      },
      "outputs": [],
      "source": []
    },
    {
      "cell_type": "code",
      "execution_count": null,
      "metadata": {
        "id": "bkkFtE76WoQs"
      },
      "outputs": [],
      "source": [
        "from google.colab import drive\n",
        "drive.mount('/content/drive')"
      ]
    },
    {
      "cell_type": "code",
      "execution_count": null,
      "metadata": {
        "id": "otmKrQ2xW6gb"
      },
      "outputs": [],
      "source": [
        "from tensorflow.keras.layers import Dense, Flatten, Input\n",
        "from tensorflow.keras.models import Model\n",
        "from tensorflow.keras.preprocessing import image\n",
        "from tensorflow.keras.preprocessing.image import ImageDataGenerator, load_img\n",
        "from tensorflow.keras.applications.vgg16 import VGG16, preprocess_input\n",
        "from glob import glob\n",
        "import numpy as np\n",
        "import matplotlib.pyplot as plt  "
      ]
    },
    {
      "cell_type": "code",
      "execution_count": null,
      "metadata": {
        "id": "--E6_rdqXCP6"
      },
      "outputs": [],
      "source": [
        "vgg=VGG16(weights='imagenet',include_top=False,input_tensor=Input(shape=(224,224,3)))\n",
        "vgg1=VGG16(weights='imagenet',include_top=False,input_tensor=Input(shape=(224,224,3)))"
      ]
    },
    {
      "cell_type": "code",
      "execution_count": null,
      "metadata": {
        "id": "0BtoxTQ1XFfO"
      },
      "outputs": [],
      "source": [
        "for layer in vgg.layers:\n",
        "    layer.trainable=False\n",
        "x=Flatten()(vgg.output)\n",
        "for layer in vgg1.layers:\n",
        "    layer.trainable=False\n",
        "y=Flatten()(vgg1.output)"
      ]
    },
    {
      "cell_type": "code",
      "execution_count": null,
      "metadata": {
        "id": "3kaB1hVsXIc0"
      },
      "outputs": [],
      "source": [
        "prediction=Dense(3,activation='softmax')(x)\n",
        "prediction1=Dense(3,activation='softmax')(y)"
      ]
    },
    {
      "cell_type": "code",
      "execution_count": null,
      "metadata": {
        "id": "kVpJyeSwXLa8"
      },
      "outputs": [],
      "source": [
        "model=Model(inputs=vgg.input,outputs=prediction)\n",
        "model1=Model(inputs=vgg1.input,outputs=prediction1)"
      ]
    },
    {
      "cell_type": "code",
      "execution_count": null,
      "metadata": {
        "id": "aJ6nS3lVXOZ7"
      },
      "outputs": [],
      "source": [
        "model.summary()"
      ]
    },
    {
      "cell_type": "code",
      "execution_count": null,
      "metadata": {
        "id": "GGsb8P5rXUUx"
      },
      "outputs": [],
      "source": [
        "model.compile(loss='categorical_crossentropy', optimizer='adam',metrics=['acc'])\n",
        "model1.compile(loss='categorical_crossentropy', optimizer='adam',metrics=['acc'])"
      ]
    },
    {
      "cell_type": "code",
      "execution_count": null,
      "metadata": {
        "id": "49C5vKVZXZZP"
      },
      "outputs": [],
      "source": [
        "import sys\n",
        "r = model.fit_generator(training_set,\n",
        "                        validation_data=test_set,\n",
        "                        epochs=25,\n",
        "                        steps_per_epoch=979//10,\n",
        "                        validation_steps=171//10)"
      ]
    },
    {
      "cell_type": "code",
      "execution_count": null,
      "metadata": {
        "id": "UhpMjezAXcWT"
      },
      "outputs": [],
      "source": [
        "import sys\n",
        "r = model1.fit_generator(training_set,\n",
        "                        validation_data=test_set,\n",
        "                        epochs=25,\n",
        "                        steps_per_epoch=979//10,\n",
        "                        validation_steps=171//10)"
      ]
    },
    {
      "cell_type": "code",
      "execution_count": null,
      "metadata": {
        "id": "wmHqcgUgXe-l"
      },
      "outputs": [],
      "source": [
        "model.save('body.h5')"
      ]
    },
    {
      "cell_type": "code",
      "execution_count": null,
      "metadata": {
        "id": "_koEaxb7XhWK"
      },
      "outputs": [],
      "source": [
        "model1.save('level.h5')"
      ]
    },
    {
      "cell_type": "code",
      "execution_count": null,
      "metadata": {
        "id": "s1d4vwhcXh_H"
      },
      "outputs": [],
      "source": [
        "from tensorflow.keras.models import  load_model\n",
        "import cv2\n",
        "from skimage.transform import resize\n",
        "\n",
        "body_model=load_model('body.h5')"
      ]
    },
    {
      "cell_type": "code",
      "execution_count": null,
      "metadata": {
        "id": "31euFqZLXm4j"
      },
      "outputs": [],
      "source": [
        "from tensorflow.keras.models import  load_model\n",
        "import cv2\n",
        "from skimage.transform import resize\n",
        "\n",
        "level_model=load_model('level.h5')"
      ]
    },
    {
      "cell_type": "code",
      "execution_count": null,
      "metadata": {
        "id": "z6Syq-OeXp6z"
      },
      "outputs": [],
      "source": [
        "def detect(frame):\n",
        "    img=cv2.resize(frame,(224,224))\n",
        "    img=cv2.cvtColor(img,cv2.COLOR_BGR2RGB)\n",
        "    if(np.max(img)>1):\n",
        "        img=img/255.0\n",
        "    img=np.array([img])\n",
        "    prediction =body_model.predict(img)\n",
        "    label=[\"front\",\"rear\",\"side\"]\n",
        "    preds=label[np.argmax(prediction)]\n",
        "    return preds"
      ]
    },
    {
      "cell_type": "code",
      "execution_count": null,
      "metadata": {
        "id": "VJyB1MoNXsm6"
      },
      "outputs": [],
      "source": [
        "def detect(frame):\n",
        "    img=cv2.resize(frame,(224,224))\n",
        "    img=cv2.cvtColor(img,cv2.COLOR_BGR2RGB)\n",
        "    if(np.max(img)>1):\n",
        "        img=img/255.0\n",
        "    img=np.array([img])\n",
        "    prediction =level_model.predict(img)\n",
        "    print(prediction)\n",
        "    label=[\"minor\",\"moderate\",\"severe\"]\n",
        "    preds=label[np.argmax(prediction)]\n",
        "    return preds"
      ]
    },
    {
      "cell_type": "code",
      "execution_count": null,
      "metadata": {
        "id": "rtVooF9YXvWO"
      },
      "outputs": [],
      "source": [
        "import numpy as np\n",
        "\n",
        "data= '/content/Car damage/body/training/00-front/0006.JPEG'\n",
        "image= cv2.imread(data)\n",
        "print(detect(image))"
      ]
    },
    {
      "cell_type": "code",
      "execution_count": null,
      "metadata": {
        "id": "0d0jbJbaXx3f"
      },
      "outputs": [],
      "source": [
        "import numpy as np\n",
        "\n",
        "data='/content/Car damage/level/validation/01-minor/0009.jpeg'\n",
        "image= cv2.imread(data)\n",
        "print(detect(image))"
      ]
    }
  ],
  "metadata": {
    "colab": {
      "provenance": []
    },
    "kernelspec": {
      "display_name": "Python 3",
      "name": "python3"
    },
    "language_info": {
      "name": "python"
    }
  },
  "nbformat": 4,
  "nbformat_minor": 0
}