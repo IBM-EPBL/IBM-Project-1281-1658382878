{
  "cells": [
    {
      "cell_type": "code",
      "execution_count": null,
      "metadata": {
        "id": "QxbO5prI7j5N"
      },
      "outputs": [],
      "source": [
        "!unzip '/content/drive/MyDrive/Car damage-20221113T134214Z-001.zip'"
      ]
    },
    {
      "cell_type": "code",
      "execution_count": 2,
      "metadata": {
        "id": "9phm1Y6y9b1y"
      },
      "outputs": [],
      "source": [
        "#import image datagenerator library \n",
        "from tensorflow.keras.preprocessing.image import ImageDataGenerator"
      ]
    },
    {
      "cell_type": "code",
      "source": [
        "from keras.preprocessing.image import ImageDataGenerator"
      ],
      "metadata": {
        "id": "AdEkFWjcRqXQ"
      },
      "execution_count": 9,
      "outputs": []
    },
    {
      "cell_type": "code",
      "execution_count": 3,
      "metadata": {
        "id": "ZEv3YLeH-YNg"
      },
      "outputs": [],
      "source": [
        "#setting parameter for image data augmentation to the training data.\n",
        "train_datagen = ImageDataGenerator(rescale=1./255,\n",
        "                                                            shear_range=0.1,\n",
        "                                                            zoom_range=0.1,\n",
        "                                                             horizontal_flip=True)"
      ]
    },
    {
      "cell_type": "code",
      "execution_count": 4,
      "metadata": {
        "id": "nsEdQVtL_56H"
      },
      "outputs": [],
      "source": [
        "#image data augmentation to the testing data.\n",
        "val_datagen = ImageDataGenerator(rescale = 1./255)"
      ]
    },
    {
      "cell_type": "code",
      "source": [
        "training_set = train_datagen.flow_from_directory('/content/Car damage/body/training',\n",
        "                                               target_size = (224, 224),\n",
        "                                               batch_size = 10,\n",
        "                                               class_mode = 'categorical')\n",
        "validation_generator = val_datagen.flow_from_directory('/content/Car damage/body/validation',\n",
        "                                                target_size = (224, 224),\n",
        "                                               batch_size = 10,\n",
        "                                               class_mode = 'categorical')  \n"
      ],
      "metadata": {
        "id": "4JUfRmsgVyZ3",
        "colab": {
          "base_uri": "https://localhost:8080/"
        },
        "outputId": "aa11d7a6-56af-4b6b-e9fc-8036592310c3"
      },
      "execution_count": 17,
      "outputs": [
        {
          "output_type": "stream",
          "name": "stdout",
          "text": [
            "Found 979 images belonging to 3 classes.\n",
            "Found 171 images belonging to 3 classes.\n"
          ]
        }
      ]
    },
    {
      "cell_type": "code",
      "source": [
        "training_set = train_datagen.flow_from_directory('/content/Car damage/level/training',\n",
        "                                               target_size = (224, 224),\n",
        "                                               batch_size = 10,\n",
        "                                               class_mode = 'categorical')\n",
        "validation_generator = val_datagen.flow_from_directory('/content/Car damage/level/validation',\n",
        "                                                target_size = (224, 224),\n",
        "                                               batch_size = 10,\n",
        "                                               class_mode = 'categorical')  "
      ],
      "metadata": {
        "colab": {
          "base_uri": "https://localhost:8080/"
        },
        "id": "wtphG82bTvrq",
        "outputId": "57404169-9a3f-495a-ffe6-0598cdadc80b"
      },
      "execution_count": 18,
      "outputs": [
        {
          "output_type": "stream",
          "name": "stdout",
          "text": [
            "Found 979 images belonging to 3 classes.\n",
            "Found 171 images belonging to 3 classes.\n"
          ]
        }
      ]
    }
  ],
  "metadata": {
    "colab": {
      "provenance": [],
      "collapsed_sections": []
    },
    "kernelspec": {
      "display_name": "Python 3",
      "name": "python3"
    },
    "language_info": {
      "name": "python"
    }
  },
  "nbformat": 4,
  "nbformat_minor": 0
}